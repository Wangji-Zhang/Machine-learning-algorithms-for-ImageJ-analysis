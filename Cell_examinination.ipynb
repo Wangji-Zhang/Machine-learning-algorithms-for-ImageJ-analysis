{
 "cells": [
  {
   "cell_type": "code",
   "execution_count": null,
   "id": "df075a3b",
   "metadata": {},
   "outputs": [],
   "source": [
    "import pandas as pd\n",
    "from sklearn.preprocessing import StandardScaler\n",
    "from sklearn.linear_model import LogisticRegression\n",
    "from sklearn.model_selection import LeaveOneOut\n",
    "from sklearn.metrics import accuracy_score, classification_report, confusion_matrix"
   ]
  },
  {
   "cell_type": "code",
   "execution_count": null,
   "id": "2ccab974",
   "metadata": {},
   "outputs": [],
   "source": [
    "def load_and_prepare_data(filepath, has_target=True):\n",
    "    \"\"\"Load dataset; skip first row; auto select feature columns\"\"\"\n",
    "    data = pd.read_excel(filepath)\n",
    "    data = data.iloc[1:, :] # if the data doesn't have a header. Turn [1:,:] to [:,:]\n",
    "    features = data.iloc[:, 1:9]  # [:,column which feature start:column which feature end]\n",
    "    if has_target:\n",
    "        target = data['Qualified']\n",
    "    else:\n",
    "        target = None\n",
    "    return features, target, data\n",
    "\n",
    "def loocv_train(features, target):\n",
    "    \"\"\"Perform Leave-One-Out Cross Validation on Logistic Regression,\n",
    "        this will be useful when sample size is less than 300\"\"\"\n",
    "    scaler = StandardScaler()\n",
    "    features_scaled = scaler.fit_transform(features)\n",
    "\n",
    "    loo = LeaveOneOut()\n",
    "    preds, trues = [], []\n",
    "\n",
    "    model = LogisticRegression()\n",
    "\n",
    "    for train_index, test_index in loo.split(features_scaled):\n",
    "        X_train, X_test = features_scaled[train_index], features_scaled[test_index]\n",
    "        y_train, y_test = target.iloc[train_index], target.iloc[test_index]\n",
    "\n",
    "        model.fit(X_train, y_train)\n",
    "        y_pred = model.predict(X_test)\n",
    "\n",
    "        preds.extend(y_pred)\n",
    "        trues.extend(y_test)\n",
    "\n",
    "    # Evaluation\n",
    "    print(\"===== LOOCV Evaluation =====\")\n",
    "    print(\"Accuracy:\", accuracy_score(trues, preds))\n",
    "    print(\"Confusion Matrix:\\n\", confusion_matrix(trues, preds))\n",
    "    print(\"Classification Report:\\n\", classification_report(trues, preds))\n",
    "\n",
    "    # Final model trained on full data\n",
    "    final_model = LogisticRegression()\n",
    "    final_model.fit(features_scaled, target)\n",
    "    return final_model, scaler\n",
    "\n",
    "\n",
    "def apply_model_to_new_data(model, scaler, filepath):\n",
    "    \"\"\"Predict unknown dataset without Qualified column\"\"\"\n",
    "    new_features, _, new_data = load_and_prepare_data(filepath, has_target=False)\n",
    "    new_scaled = scaler.transform(new_features)\n",
    "    predictions = model.predict(new_scaled)\n",
    "\n",
    "    new_data['Qualified'] = predictions\n",
    "    return new_data\n"
   ]
  },
  {
   "cell_type": "code",
   "execution_count": null,
   "id": "c73d63ed",
   "metadata": {},
   "outputs": [],
   "source": [
    "training_file = \"path\"\n",
    "unknown_file = \"path\"\n",
    "\n",
    "\n",
    "features, target, _ = load_and_prepare_data(training_file, has_target=True)\n",
    "model, scaler = loocv_train(features, target)\n",
    "\n",
    "\n",
    "qualified_data = apply_model_to_new_data(model, scaler, unknown_file)\n",
    "\n",
    "qualified_data.to_excel(\"predicted_qualified_output.xlsx\", index=False)\n",
    "print(\"End\")"
   ]
  }
 ],
 "metadata": {
  "kernelspec": {
   "display_name": "myenv",
   "language": "python",
   "name": "python3"
  },
  "language_info": {
   "name": "python",
   "version": "3.9.23"
  }
 },
 "nbformat": 4,
 "nbformat_minor": 5
}
